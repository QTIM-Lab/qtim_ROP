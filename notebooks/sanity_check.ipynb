{
 "cells": [
  {
   "cell_type": "code",
   "execution_count": 4,
   "metadata": {},
   "outputs": [],
   "source": [
    "%load_ext autoreload"
   ]
  },
  {
   "cell_type": "code",
   "execution_count": 5,
   "metadata": {},
   "outputs": [],
   "source": [
    "%autoreload 1\n",
    "from qtim_ROP.learning.retina_net import RetiNet\n",
    "from qtim_ROP.utils.image import imgs_by_class_to_th_array"
   ]
  },
  {
   "cell_type": "code",
   "execution_count": 21,
   "metadata": {},
   "outputs": [],
   "source": [
    "import os\n",
    "from os.path import join, basename, splitext\n",
    "import cv2\n",
    "import numpy as np\n",
    "\n",
    "test_dir = \"C:/Users/jxb29/Dropbox (Partners HealthCare)/DeepROP_deployment/images/First100/images\"\n",
    "prep_dir = \"C:/Users/jxb29/Dropbox (Partners HealthCare)/DeepROP_deployment/images/First100/output_tf/preprocessed\"\n",
    "image_list = []\n",
    "ground_truth = []\n",
    "originals = []\n",
    "\n",
    "for i, class_ in enumerate(['normal', 'pre-plus', 'plus']):\n",
    "    \n",
    "    for img in os.listdir(join(test_dir, class_)):\n",
    "        \n",
    "        img = cv2.imread(join(prep_dir, splitext(basename(img))[0] + '.bmp'))\n",
    "        image_list.append(img)\n",
    "        ground_truth.append(i)\n",
    "        originals.append(img)\n",
    "        \n",
    "img_arr = np.stack(image_list, axis=0)\n",
    "ground_truth = np.asarray(ground_truth)\n",
    "originals = np.asarray(originals)"
   ]
  },
  {
   "cell_type": "code",
   "execution_count": 22,
   "metadata": {},
   "outputs": [
    {
     "name": "stdout",
     "output_type": "stream",
     "text": [
      "(100, 224, 224, 3)\n"
     ]
    }
   ],
   "source": [
    "print(img_arr.shape)\n",
    "import h5py\n",
    "\n",
    "out_file = 'first100.h5'\n",
    "with h5py.File(out_file, \"w\") as f:\n",
    "    f.create_dataset('data', data=img_arr, dtype=img_arr.dtype)\n",
    "    f.create_dataset('labels', data=ground_truth, dtype=ground_truth.dtype)\n",
    "    f.create_dataset('original_files', data=originals, dtype=originals.dtype)\n"
   ]
  },
  {
   "cell_type": "code",
   "execution_count": 23,
   "metadata": {},
   "outputs": [
    {
     "name": "stdout",
     "output_type": "stream",
     "text": [
      "Evaluating model\n"
     ]
    }
   ],
   "source": [
    "import os\n",
    "config = 'C:/Users/jxb29/Dropbox (Partners HealthCare)/DeepROP_deployment/models/python3_tf/classifiers/Split3_Classify_128features/Split3_Classify_128features.yaml'\n",
    "h5_file = 'C:/Users/jxb29/Dropbox (Partners HealthCare)/DeepROP_deployment/images/splits/split_3/test.h5'\n",
    "\n",
    "model = RetiNet(config)\n",
    "model.model.load_weights(os.path.join(os.path.dirname(config), 'final_weights.h5'))"
   ]
  },
  {
   "cell_type": "code",
   "execution_count": 24,
   "metadata": {},
   "outputs": [
    {
     "name": "stdout",
     "output_type": "stream",
     "text": [
      "Loading data from HDF5 file 'C:/Users/jxb29/Dropbox (Partners HealthCare)/DeepROP_deployment/images/splits/split_3/test.h5'\n",
      "Data was transposed to have channels last\n",
      "Converted string labels to to integers\n",
      "{'No': 0, 'Pre-Plus': 1, 'Plus': 2}\n"
     ]
    }
   ],
   "source": [
    "from qtim_ROP.utils.image import create_generator \n",
    "val_gen, val_n, y_true, _ = create_generator(h5_file, model.model.input_shape[1:], training=False, batch_size=1, regression=False)"
   ]
  },
  {
   "cell_type": "code",
   "execution_count": 26,
   "metadata": {},
   "outputs": [],
   "source": [
    "y_preda = model.model.predict_generator(val_gen)"
   ]
  },
  {
   "cell_type": "code",
   "execution_count": 25,
   "metadata": {},
   "outputs": [
    {
     "data": {
      "text/plain": [
       "[{'method': 'ROC', 'label': 'Normal', 'score': 0.40533574952179596},\n",
       " {'method': 'ROC', 'label': 'Plus', 'score': 0.4053359683794466}]"
      ]
     },
     "execution_count": 25,
     "metadata": {},
     "output_type": "execute_result"
    }
   ],
   "source": [
    "from qtim_ROP.evaluation.metrics import plot_ROC_curves\n",
    "\n",
    "plot_ROC_curves(y_true, y_preda, {0: 'Normal', 2: 'Plus'})"
   ]
  },
  {
   "cell_type": "code",
   "execution_count": null,
   "metadata": {},
   "outputs": [],
   "source": [
    "import h5py\n",
    "import numpy as np\n",
    "h5_file = 'C:/Users/jxb29/Dropbox (Partners HealthCare)/DeepROP_deployment/images/splits/split_3/test.h5'\n",
    "\n",
    "test_data = h5py.File(h5_file, 'r')\n",
    "data = test_data['data']\n",
    "labels = list(test_data['labels'])\n",
    "plus_idx = [i for i in range(len(labels)) if labels[i].decode(\"utf-8\") == 'Pre-Plus'][:20]\n",
    "plus_images = data[plus_idx, ...].transpose((0, 2, 3, 1))\n",
    "print(plus_images.shape)"
   ]
  },
  {
   "cell_type": "code",
   "execution_count": null,
   "metadata": {},
   "outputs": [],
   "source": [
    "y_pred = model.predict(plus_images)\n",
    "print(y_pred)\n",
    "print(np.argmax(y_pred, axis=1))"
   ]
  }
 ],
 "metadata": {
  "kernelspec": {
   "display_name": "deeproptf",
   "language": "python",
   "name": "deeproptf"
  },
  "language_info": {
   "codemirror_mode": {
    "name": "ipython",
    "version": 3
   },
   "file_extension": ".py",
   "mimetype": "text/x-python",
   "name": "python",
   "nbconvert_exporter": "python",
   "pygments_lexer": "ipython3",
   "version": "3.6.6"
  }
 },
 "nbformat": 4,
 "nbformat_minor": 2
}
